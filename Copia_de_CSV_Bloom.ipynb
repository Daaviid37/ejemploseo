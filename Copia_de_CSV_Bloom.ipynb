{
  "cells": [
    {
      "cell_type": "markdown",
      "metadata": {
        "id": "view-in-github",
        "colab_type": "text"
      },
      "source": [
        "<a href=\"https://colab.research.google.com/github/Daaviid37/ejemploseo/blob/master/Copia_de_CSV_Bloom.ipynb\" target=\"_parent\"><img src=\"https://colab.research.google.com/assets/colab-badge.svg\" alt=\"Open In Colab\"/></a>"
      ]
    },
    {
      "cell_type": "code",
      "execution_count": 1,
      "metadata": {
        "colab": {
          "base_uri": "https://localhost:8080/"
        },
        "id": "AFzfj2kEKN7T",
        "outputId": "1442f818-1901-461f-cd9f-40c01fe20f2e"
      },
      "outputs": [
        {
          "output_type": "stream",
          "name": "stdout",
          "text": [
            "Looking in indexes: https://pypi.org/simple, https://us-python.pkg.dev/colab-wheels/public/simple/\n",
            "Collecting people_also_ask\n",
            "  Downloading people_also_ask-1.1.0.tar.gz (12 kB)\n",
            "Requirement already satisfied: beautifulsoup4 in /usr/local/lib/python3.7/dist-packages (from people_also_ask) (4.6.3)\n",
            "Requirement already satisfied: requests in /usr/local/lib/python3.7/dist-packages (from people_also_ask) (2.23.0)\n",
            "Requirement already satisfied: jinja2 in /usr/local/lib/python3.7/dist-packages (from people_also_ask) (2.11.3)\n",
            "Requirement already satisfied: MarkupSafe>=0.23 in /usr/local/lib/python3.7/dist-packages (from jinja2->people_also_ask) (2.0.1)\n",
            "Requirement already satisfied: chardet<4,>=3.0.2 in /usr/local/lib/python3.7/dist-packages (from requests->people_also_ask) (3.0.4)\n",
            "Requirement already satisfied: urllib3!=1.25.0,!=1.25.1,<1.26,>=1.21.1 in /usr/local/lib/python3.7/dist-packages (from requests->people_also_ask) (1.24.3)\n",
            "Requirement already satisfied: certifi>=2017.4.17 in /usr/local/lib/python3.7/dist-packages (from requests->people_also_ask) (2022.6.15)\n",
            "Requirement already satisfied: idna<3,>=2.5 in /usr/local/lib/python3.7/dist-packages (from requests->people_also_ask) (2.10)\n",
            "Building wheels for collected packages: people-also-ask\n",
            "  Building wheel for people-also-ask (setup.py) ... \u001b[?25l\u001b[?25hdone\n",
            "  Created wheel for people-also-ask: filename=people_also_ask-1.1.0-py3-none-any.whl size=13449 sha256=1d0340dd189afaf2b2aff97b422efb99e5db1c16f5d518a3b92091b32630eea8\n",
            "  Stored in directory: /root/.cache/pip/wheels/b6/2c/30/904136b93265d5261c712e267128c4271146f98181cb5cb827\n",
            "Successfully built people-also-ask\n",
            "Installing collected packages: people-also-ask\n",
            "Successfully installed people-also-ask-1.1.0\n",
            "\u001b[K     |████████████████████████████████| 4.7 MB 5.1 MB/s \n",
            "\u001b[K     |████████████████████████████████| 101 kB 11.0 MB/s \n",
            "\u001b[K     |████████████████████████████████| 596 kB 49.8 MB/s \n",
            "\u001b[K     |████████████████████████████████| 6.6 MB 58.6 MB/s \n",
            "\u001b[?25hLooking in indexes: https://pypi.org/simple, https://us-python.pkg.dev/colab-wheels/public/simple/\n",
            "Collecting youtube_search\n",
            "  Downloading youtube_search-2.1.1-py3-none-any.whl (3.4 kB)\n",
            "Requirement already satisfied: requests in /usr/local/lib/python3.7/dist-packages (from youtube_search) (2.23.0)\n",
            "Requirement already satisfied: idna<3,>=2.5 in /usr/local/lib/python3.7/dist-packages (from requests->youtube_search) (2.10)\n",
            "Requirement already satisfied: chardet<4,>=3.0.2 in /usr/local/lib/python3.7/dist-packages (from requests->youtube_search) (3.0.4)\n",
            "Requirement already satisfied: urllib3!=1.25.0,!=1.25.1,<1.26,>=1.21.1 in /usr/local/lib/python3.7/dist-packages (from requests->youtube_search) (1.24.3)\n",
            "Requirement already satisfied: certifi>=2017.4.17 in /usr/local/lib/python3.7/dist-packages (from requests->youtube_search) (2022.6.15)\n",
            "Installing collected packages: youtube-search\n",
            "Successfully installed youtube-search-2.1.1\n",
            "Looking in indexes: https://pypi.org/simple, https://us-python.pkg.dev/colab-wheels/public/simple/\n",
            "Collecting spintax\n",
            "  Downloading spintax-1.0.4-py3-none-any.whl (3.4 kB)\n",
            "Installing collected packages: spintax\n",
            "Successfully installed spintax-1.0.4\n"
          ]
        }
      ],
      "source": [
        "! pip install people_also_ask\n",
        "! pip install transformers -q\n",
        "! pip install youtube_search\n",
        "! pip install spintax"
      ]
    },
    {
      "cell_type": "code",
      "execution_count": 2,
      "metadata": {
        "id": "QN1F9bubKUlo"
      },
      "outputs": [],
      "source": [
        "from transformers import AutoModelForCausalLM, AutoTokenizer, set_seed\n",
        "import people_also_ask\n",
        "import re\n",
        "import urllib.request, json \n",
        "import torch\n",
        "import shutil\n",
        "import tempfile\n",
        "import time\n",
        "import requests\n",
        "import urllib.parse\n",
        "import json\n",
        "import os\n",
        "import csv\n",
        "import time\n",
        "import json,urllib.request\n",
        "import urllib.request\n",
        "torch.set_default_tensor_type(torch.cuda.FloatTensor)"
      ]
    },
    {
      "cell_type": "code",
      "execution_count": 3,
      "metadata": {
        "colab": {
          "base_uri": "https://localhost:8080/",
          "height": 177,
          "referenced_widgets": [
            "888e53aa5b9043b684bff893f7d5072b",
            "f72cfcdb7c7f40adba1cb84f5a99d3d5",
            "e3b480c8d84f4ac4b49363faeac890ee",
            "ad0744d18d5b4ce88c1e3bed25919bb8",
            "f4007e8724a6460ca16785ec03ad049a",
            "4592d543edea44c2bcebe00a4d759c45",
            "1c1425545d394469a01b9d4a35555252",
            "372caa3cf3024d83ac3f8b70bfa1b7ed",
            "c9b2eb02e1844020a6864990cf292dfc",
            "ec625b7038af4a8687c004ac1a676cda",
            "bf92d246a2194ded870e86bb88e9fae7",
            "dca9fb3658a4421d98c5445875b46335",
            "ac027efdca3a480b8f6f24645ae86952",
            "f2f4afc0f611454989277f847f1d1f31",
            "665a179cf40d4216af9c448cc5a581cd",
            "e6dc0da146ff4cdc81d8496954655b59",
            "484706a29e5e49a8b3b91559d1ed7ab8",
            "983378ba6c184223baae83d731f28168",
            "335cf304125342d593ace5fb82c56c4b",
            "cbfbfde344304863ad0bea121072bfe4",
            "f4a022ff9f8c4d37b9c72de46a3c9508",
            "4c7ca8c9d62348d98fe5b7682622582b",
            "7410d627b1624665b68ae22879ce7730",
            "27b2e639625c46a7a05131d515e9baf9",
            "3cdb55405b1b4519ae3f32536c37e823",
            "a189acca28fd480b84424f46cc579f25",
            "393d18cbd41e4165b83675fb8082491c",
            "e673030ff222488e949c7002d0ce1c18",
            "f46f492dbdd94571b0603a50323c029c",
            "9981470419bb4fa8ae24506fe187bd3f",
            "a2f55721c0a54f5b8723b1048c3e2244",
            "6aed3b7a9e884098822b232018a59d9e",
            "07181b351f6a437a964139bda4929d25",
            "b741015fbae549749ee5efbb8cccd1e7",
            "ab5cc84822e5427b992beb27155a4180",
            "cc7b1ce656184cc9be794e6ab5228c91",
            "c9854e8065584a418bd08d0a16e61fa1",
            "8cfe32acebb94e1784051dcff1a0681b",
            "57c115637182416d9ab558770cf81ff0",
            "cf7811d0f0464200987d5fb6c8ba166f",
            "f0dd46430ae34fcda352f203eecd286a",
            "013ff53e39eb48ecb747c9d4eee2c131",
            "f749a5c17e474af5bbe4515b28d32882",
            "6884fc0662444801b3f0a47d37eae393",
            "6360927fb4cc49619edd26f9abb90987",
            "a09c50e3cb6b47e6b246cb85c1f67aae",
            "868c972bec5b4efc82d1f6cd5d99bd81",
            "a06e0cdacae64a9f8b179f043629904b",
            "6a58378e39674b40829f7aceba43879f",
            "9b5c3261884b412ebcc51a9fb7b44411",
            "0da04b8a31aa48d69af6b40fc73ef258",
            "194fcbfc26bc47ad9d778cba322acfe0",
            "494a4030c8ff48509605f0d6ffe350e3",
            "d2835b24554c428780ccb59d2b769c19",
            "0a85762e44474e8baa000b0d33aa2324"
          ]
        },
        "id": "JDD3Hc7xwhCL",
        "outputId": "799585ea-4fe8-4647-a48c-d19632b39c50"
      },
      "outputs": [
        {
          "output_type": "display_data",
          "data": {
            "text/plain": [
              "Downloading config.json:   0%|          | 0.00/710 [00:00<?, ?B/s]"
            ],
            "application/vnd.jupyter.widget-view+json": {
              "version_major": 2,
              "version_minor": 0,
              "model_id": "888e53aa5b9043b684bff893f7d5072b"
            }
          },
          "metadata": {}
        },
        {
          "output_type": "display_data",
          "data": {
            "text/plain": [
              "Downloading pytorch_model.bin:   0%|          | 0.00/3.21G [00:00<?, ?B/s]"
            ],
            "application/vnd.jupyter.widget-view+json": {
              "version_major": 2,
              "version_minor": 0,
              "model_id": "dca9fb3658a4421d98c5445875b46335"
            }
          },
          "metadata": {}
        },
        {
          "output_type": "display_data",
          "data": {
            "text/plain": [
              "Downloading tokenizer_config.json:   0%|          | 0.00/222 [00:00<?, ?B/s]"
            ],
            "application/vnd.jupyter.widget-view+json": {
              "version_major": 2,
              "version_minor": 0,
              "model_id": "7410d627b1624665b68ae22879ce7730"
            }
          },
          "metadata": {}
        },
        {
          "output_type": "display_data",
          "data": {
            "text/plain": [
              "Downloading tokenizer.json:   0%|          | 0.00/13.8M [00:00<?, ?B/s]"
            ],
            "application/vnd.jupyter.widget-view+json": {
              "version_major": 2,
              "version_minor": 0,
              "model_id": "b741015fbae549749ee5efbb8cccd1e7"
            }
          },
          "metadata": {}
        },
        {
          "output_type": "display_data",
          "data": {
            "text/plain": [
              "Downloading special_tokens_map.json:   0%|          | 0.00/85.0 [00:00<?, ?B/s]"
            ],
            "application/vnd.jupyter.widget-view+json": {
              "version_major": 2,
              "version_minor": 0,
              "model_id": "6360927fb4cc49619edd26f9abb90987"
            }
          },
          "metadata": {}
        }
      ],
      "source": [
        "model = AutoModelForCausalLM.from_pretrained(\"bigscience/bloom-1b3\", use_cache=True)\n",
        "tokenizer = AutoTokenizer.from_pretrained(\"bigscience/bloom-1b3\")"
      ]
    },
    {
      "cell_type": "code",
      "execution_count": 4,
      "metadata": {
        "id": "zD74VgZ8wiIK"
      },
      "outputs": [],
      "source": [
        "set_seed(424242)"
      ]
    },
    {
      "cell_type": "code",
      "source": [
        "#Borramos contenido del txt\n",
        "borrar = open(\"prueba.txt\", \"w\")\n",
        "borrar.close()"
      ],
      "metadata": {
        "id": "xtK75TODjcmb"
      },
      "execution_count": 65,
      "outputs": []
    },
    {
      "cell_type": "code",
      "source": [
        "infile = open(\"titles.txt\", \"r\")\n",
        "\n",
        "counter = 0\n",
        "for post in infile:\n",
        "  f = open(\"post-content.csv\", \"a\", encoding=\"UTF8\")\n",
        "  writer = csv.writer(f)\n",
        "print(counter)"
      ],
      "metadata": {
        "id": "BP4I8K2_1jAI",
        "colab": {
          "base_uri": "https://localhost:8080/"
        },
        "outputId": "a276da5a-4877-45e2-af7e-15c802c9c9dc"
      },
      "execution_count": 66,
      "outputs": [
        {
          "output_type": "stream",
          "name": "stdout",
          "text": [
            "0\n"
          ]
        }
      ]
    },
    {
      "cell_type": "code",
      "source": [
        "infile = open(\"titles.txt\", \"r\")\n",
        "\n",
        "counter = counter + 1;\n",
        "for post in infile:\n",
        "  f = open(\"post-content.csv\", \"a\", encoding=\"UTF8\")\n",
        "  writer = csv.writer(f)\n",
        "print(counter)"
      ],
      "metadata": {
        "id": "es5ixF-Xqhjo",
        "colab": {
          "base_uri": "https://localhost:8080/"
        },
        "outputId": "f2a7c03f-1dae-4dc6-e2c3-ed9200bfaf22"
      },
      "execution_count": 67,
      "outputs": [
        {
          "output_type": "stream",
          "name": "stdout",
          "text": [
            "1\n"
          ]
        }
      ]
    },
    {
      "cell_type": "code",
      "execution_count": 68,
      "metadata": {
        "id": "yi9vQ6tcwoRc"
      },
      "outputs": [],
      "source": [
        "blogpost_title = post"
      ]
    },
    {
      "cell_type": "code",
      "source": [
        "#@title IMAGENES (Desactivado)"
      ],
      "metadata": {
        "id": "c4KG2R1bo2VJ"
      },
      "execution_count": 69,
      "outputs": []
    },
    {
      "cell_type": "code",
      "source": [
        "#! pip install min-dalle -q"
      ],
      "metadata": {
        "id": "mNqmIf6Eraqb"
      },
      "execution_count": 70,
      "outputs": []
    },
    {
      "cell_type": "code",
      "source": [
        "\"\"\"\n",
        "dtype = \"float16\"\n",
        "from min_dalle import MinDalle\n",
        "\"\"\""
      ],
      "metadata": {
        "id": "YAvX_xXeskNR",
        "colab": {
          "base_uri": "https://localhost:8080/",
          "height": 36
        },
        "outputId": "42c25c4d-774c-455b-db4b-1d46a3b5977c"
      },
      "execution_count": 71,
      "outputs": [
        {
          "output_type": "execute_result",
          "data": {
            "text/plain": [
              "'\\ndtype = \"float16\"\\nfrom min_dalle import MinDalle\\n'"
            ],
            "application/vnd.google.colaboratory.intrinsic+json": {
              "type": "string"
            }
          },
          "metadata": {},
          "execution_count": 71
        }
      ]
    },
    {
      "cell_type": "code",
      "source": [
        "#model = MinDalle(is_mega=True, is_reusable=True)"
      ],
      "metadata": {
        "id": "r9k3sYZivKm6"
      },
      "execution_count": 72,
      "outputs": []
    },
    {
      "cell_type": "code",
      "source": [
        "\"\"\"\n",
        "text = (post) \n",
        "seed = 4  \n",
        "grid_size = 2  \n",
        "imagen = (model.generate_image(text, seed, grid_size))\n",
        "display(imagen)\n",
        "\"\"\""
      ],
      "metadata": {
        "id": "tGAlhR8ssl1A",
        "colab": {
          "base_uri": "https://localhost:8080/",
          "height": 36
        },
        "outputId": "d08951da-8bf6-4975-ce87-22427c9eaa6c"
      },
      "execution_count": 73,
      "outputs": [
        {
          "output_type": "execute_result",
          "data": {
            "text/plain": [
              "'\\ntext = (post) \\nseed = 4  \\ngrid_size = 2  \\nimagen = (model.generate_image(text, seed, grid_size))\\ndisplay(imagen)\\n'"
            ],
            "application/vnd.google.colaboratory.intrinsic+json": {
              "type": "string"
            }
          },
          "metadata": {},
          "execution_count": 73
        }
      ]
    },
    {
      "cell_type": "code",
      "source": [
        "#time.sleep(15)"
      ],
      "metadata": {
        "id": "5g_jiexHt_pQ"
      },
      "execution_count": 74,
      "outputs": []
    },
    {
      "cell_type": "code",
      "source": [
        "#@title IMAGENES GENERADAS"
      ],
      "metadata": {
        "id": "B2ty1iaIt9vZ"
      },
      "execution_count": 75,
      "outputs": []
    },
    {
      "cell_type": "code",
      "source": [
        "'''import people_also_ask.request.session\n",
        "\n",
        "people_also_ask.request.session.set_proxies(\n",
        "    (\n",
        "        \"https://130.41.47.235:8080\",\n",
        "    )\n",
        ")'''"
      ],
      "metadata": {
        "id": "uFoYIFJ8G--R",
        "colab": {
          "base_uri": "https://localhost:8080/",
          "height": 36
        },
        "outputId": "8a8fb5e3-0e64-4bbe-9ae5-4ee0c0890573"
      },
      "execution_count": 76,
      "outputs": [
        {
          "output_type": "execute_result",
          "data": {
            "text/plain": [
              "'import people_also_ask.request.session\\n\\npeople_also_ask.request.session.set_proxies(\\n    (\\n        \"https://130.41.47.235:8080\",\\n    )\\n)'"
            ],
            "application/vnd.google.colaboratory.intrinsic+json": {
              "type": "string"
            }
          },
          "metadata": {},
          "execution_count": 76
        }
      ]
    },
    {
      "cell_type": "code",
      "execution_count": 77,
      "metadata": {
        "id": "pr1UI-RuKfY5",
        "colab": {
          "base_uri": "https://localhost:8080/"
        },
        "outputId": "d08f6068-8ae1-4090-99f3-d8fba21bb831"
      },
      "outputs": [
        {
          "output_type": "stream",
          "name": "stdout",
          "text": [
            "['¿Cómo decir papas fritas?', '¿Cómo se le dice a las papas fritas en Estados Unidos?', '¿Cómo hacer patatas fritas para el día siguiente?', '¿Cómo se dicen papas fritas en inglés?', '¿Cómo se dice papas fritas en otros países?', '¿Cómo se dice papas fritas?', '¿Qué son patatas fritas en inglés?']\n"
          ]
        }
      ],
      "source": [
        "paa = people_also_ask.get_related_questions ((blogpost_title), 6)\n",
        "print(paa)"
      ]
    },
    {
      "cell_type": "code",
      "source": [
        "import re\n",
        "from unicodedata import normalize\n",
        "\n",
        "snc = (blogpost_title)\n",
        "\n",
        "\n",
        "# Quitamos acentos para suggest\n",
        "snc = re.sub(\n",
        "        r\"([^n\\u0300-\\u036f]|n(?!\\u0303(?![\\u0300-\\u036f])))[\\u0300-\\u036f]+\", r\"\\1\", \n",
        "        normalize( \"NFD\", snc), 0, re.I\n",
        "    )\n",
        "\n",
        "snc = normalize( 'NFC', snc)\n",
        "\n",
        "# Quitamos espacios para url de suggest\n",
        "\n",
        "singuion = (snc).replace(\" \", \"-\")\n",
        "print(singuion)"
      ],
      "metadata": {
        "id": "0sRNirAk4yc1",
        "colab": {
          "base_uri": "https://localhost:8080/"
        },
        "outputId": "f080bb33-7f84-4594-e11d-4542d33df139"
      },
      "execution_count": 78,
      "outputs": [
        {
          "output_type": "stream",
          "name": "stdout",
          "text": [
            "patatas-fritas\n"
          ]
        }
      ]
    },
    {
      "cell_type": "code",
      "source": [
        "urldesuggest = \"http://suggestqueries.google.com/complete/search?output=firefox&hl=es&q={0}\".format(singuion)\n",
        "with urllib.request.urlopen(urldesuggest) as url:\n",
        "    suggest = json.loads(url.read().decode(encoding='latin-1'))\n",
        "\n",
        "data = urllib.request.urlopen(urldesuggest).read()\n",
        "output = json.loads(data.decode(encoding='latin-1'))\n",
        "print(output)"
      ],
      "metadata": {
        "id": "UVQADeGDjtSh",
        "colab": {
          "base_uri": "https://localhost:8080/"
        },
        "outputId": "d6e3e844-a399-4f2a-cf4e-cebff4779f8b"
      },
      "execution_count": 79,
      "outputs": [
        {
          "output_type": "stream",
          "name": "stdout",
          "text": [
            "['patatas-fritas', ['patatas fritas al horno', 'patatas fritas', 'patatas fritas en freidora de aire', 'patatas fritas al microondas', 'patatas fritas mercadona', 'patatas fritas bonilla', 'patatas fritas congeladas en freidora de aire', 'patatas fritas belen esteban', 'patatas fritas thermomix', 'patatas fritas crujientes truco'], [], {'google:suggestsubtypes': [[30], [30], [30], [30], [30], [30], [30], [30], [30], [30]]}]\n"
          ]
        }
      ]
    },
    {
      "cell_type": "code",
      "source": [
        "#Spintax para uso en Prompt\n",
        "import spintax\n",
        "spin = (spintax.spin(\"{Hoy|Ahora|A continuación|En este blog} {escribiremos un artículo|vamos a ver|hablaremos|vamos a escribir|te informamos|vamos a contarte todo} {acerca de|sobre}{:| }\"))\n",
        "spin2 = (spintax.spin(\"{Continuamos|Seguimos|Vamos a seguir} {hablando|escribiendo|viendo} {todo|toda la información} {sobre|acerca de}{:| }\"))\n",
        "spin3 = (spintax.spin(\"{Finalizamos|Acabamos|Nos despedimos} {hablando|escribiendo} {de|sobre}{:| }\"))"
      ],
      "metadata": {
        "id": "OpTx_hvPYTdq"
      },
      "execution_count": 80,
      "outputs": []
    },
    {
      "cell_type": "code",
      "source": [
        "cadena = (output[1])\n",
        "\n",
        "ini = 1\n",
        "fin = 7\n",
        "\n",
        "suggestclean = cadena[ini:fin]"
      ],
      "metadata": {
        "id": "P8XmgMh8yN7l"
      },
      "execution_count": 81,
      "outputs": []
    },
    {
      "cell_type": "code",
      "source": [
        "print(suggestclean)"
      ],
      "metadata": {
        "colab": {
          "base_uri": "https://localhost:8080/"
        },
        "id": "aS0z31KJjaAo",
        "outputId": "14b1e893-0fd4-4409-aa4e-50c82973ab80"
      },
      "execution_count": 82,
      "outputs": [
        {
          "output_type": "stream",
          "name": "stdout",
          "text": [
            "['patatas fritas', 'patatas fritas en freidora de aire', 'patatas fritas al microondas', 'patatas fritas mercadona', 'patatas fritas bonilla', 'patatas fritas congeladas en freidora de aire']\n"
          ]
        }
      ]
    },
    {
      "cell_type": "code",
      "execution_count": 83,
      "metadata": {
        "id": "2nFhW4_Owtzb"
      },
      "outputs": [],
      "source": [
        "prompt = f'{spin} {blogpost_title}'"
      ]
    },
    {
      "cell_type": "code",
      "execution_count": 84,
      "metadata": {
        "id": "3l59e0LYw2Si",
        "colab": {
          "base_uri": "https://localhost:8080/"
        },
        "outputId": "bfbe98da-6e8a-474e-e9c8-fcb9d5719de6"
      },
      "outputs": [
        {
          "output_type": "stream",
          "name": "stdout",
          "text": [
            "A continuación vamos a escribir acerca de: patatas fritas, las cuales son un alimento muy popular en todo el mundo.</s>\n"
          ]
        }
      ],
      "source": [
        "input_ids = tokenizer(prompt, return_tensors=\"pt\").to(0)\n",
        "#model = AutoModelForCausalLM.from_pretrained(\"bigscience/bloom-560m\", use_cache=True)\n",
        "sample = model.generate(**input_ids, max_length=700,  top_k=2, temperature=1.8, repetition_penalty = 1.1, no_repeat_ngram_size=3)\n",
        "print(tokenizer.decode(sample[0], truncate_before_pattern=[r\"^#\", \"^'''\", \"\"]))"
      ]
    },
    {
      "cell_type": "code",
      "source": [
        "f = open ('prueba.txt','w')\n",
        "f.write(tokenizer.decode(sample[0], truncate_before_pattern=[r\"\\n\\n^#\", \"^'''\", \"\\n\\n\\n\"]))"
      ],
      "metadata": {
        "id": "Mjw-IOJU0_UI",
        "colab": {
          "base_uri": "https://localhost:8080/"
        },
        "outputId": "a2ed9b1e-7ee9-486c-e8a9-5483401d69ca"
      },
      "execution_count": 85,
      "outputs": [
        {
          "output_type": "execute_result",
          "data": {
            "text/plain": [
              "119"
            ]
          },
          "metadata": {},
          "execution_count": 85
        }
      ]
    },
    {
      "cell_type": "code",
      "source": [
        "#Generamos contenido con PAA\n",
        "\n",
        "try:\n",
        "\tprompt = f'{spin} {paa[1]}:'\n",
        "\tinput_ids = tokenizer(prompt, return_tensors=\"pt\").to(0)\n",
        "\tsample = model.generate(**input_ids, max_length=700,  top_k=2, temperature=1.8, repetition_penalty = 1.2, no_repeat_ngram_size=3)\n",
        "\tf = open ('prueba.txt','a')\n",
        "\tf.write('<h2>' + (paa[1]) + '</h2><br>')\n",
        "\tf.write(tokenizer.decode(sample[0], truncate_before_pattern=[r\"\\n\\n^#\", \"^'''\", \"\\n\\n\\n\"]))\n",
        "except:\n",
        "      print(\"Nada que mostrar o error. Saltamos este paso...\")\n",
        "\n",
        "try:\n",
        "\tprompt = f'{spin} {paa[2]}:'\n",
        "\tinput_ids = tokenizer(prompt, return_tensors=\"pt\").to(0)\n",
        "\tsample = model.generate(**input_ids, max_length=600,  top_k=2, temperature=1.7, repetition_penalty = 1.1, no_repeat_ngram_size=3)\n",
        "\tf = open ('prueba.txt','a')\n",
        "\tf.write('<h2>' + (paa[2]) + '</h2><br>')\n",
        "\tf.write(tokenizer.decode(sample[0], truncate_before_pattern=[r\"\\n\\n^#\", \"^'''\", \"\\n\\n\\n\"]))\n",
        "except:\n",
        "      print(\"Nada que mostrar o error. Saltamos este paso...\")\n",
        "\n",
        "try:\n",
        "\tprompt = f'{spin1} {paa[3]}:'\n",
        "\tinput_ids = tokenizer(prompt, return_tensors=\"pt\").to(0)\n",
        "\tsample = model.generate(**input_ids, max_length=600,  top_k=2, temperature=1.7, repetition_penalty = 1.1, no_repeat_ngram_size=3)\n",
        "\tf = open ('prueba.txt','a')\n",
        "\tf.write('<h2>' + (paa[3]) + '</h2><br>')\n",
        "\tf.write(tokenizer.decode(sample[0], truncate_before_pattern=[r\"\\n\\n^#\", \"^'''\", \"\\n\\n\\n\"]))\n",
        "except:\n",
        "      print(\"Nada que mostrar o error. Saltamos este paso...\")\n",
        "\n",
        "try:\n",
        "\tprompt = f'{spin2} {paa[4]}:'\n",
        "\tinput_ids = tokenizer(prompt, return_tensors=\"pt\").to(0)\n",
        "\tsample = model.generate(**input_ids, max_length=500,  top_k=1, temperature=1.9, repetition_penalty = 1, no_repeat_ngram_size=2)\n",
        "\tf = open ('prueba.txt','a')\n",
        "\tf.write('<h2>' + (paa[4]) + '</h2><br>')\n",
        "\tf.write(tokenizer.decode(sample[0], truncate_before_pattern=[r\"\\n\\n^#\", \"^'''\", \"\\n\\n\\n\"]))\n",
        "except:\n",
        "      print(\"Nada que mostrar o error. Saltamos este paso...\")\n",
        "\n",
        "try:\n",
        "\tprompt = f'{spin2} {paa[5]}:'\n",
        "\tinput_ids = tokenizer(prompt, return_tensors=\"pt\").to(0)\n",
        "\tsample = model.generate(**input_ids, max_length=400,  top_k=2, temperature=1.9, repetition_penalty = 1, no_repeat_ngram_size=1)\n",
        "\tf = open ('prueba.txt','a')\n",
        "\tf.write('<h2>' + (paa[5]) + '</h2><br>')\n",
        "\tf.write(tokenizer.decode(sample[0], truncate_before_pattern=[r\"\\n\\n^#\", \"^'''\", \"\\n\\n\\n\"]))\n",
        "except:\n",
        "      print(\"Nada que mostrar o error. Saltamos este paso...\")\n",
        "\n",
        "try:\n",
        "\tprompt = f'{paa[6]}:'\n",
        "\tinput_ids = tokenizer(prompt, return_tensors=\"pt\").to(0)\n",
        "\tsample = model.generate(**input_ids, max_length=400,  top_k=2, temperature=2, repetition_penalty = 0.7, no_repeat_ngram_size=1)\n",
        "\tf = open ('prueba.txt','a')\n",
        "\tf.write('<h2>' + (paa[6]) + '</h2><br>')\n",
        "\tf.write(tokenizer.decode(sample[0], truncate_before_pattern=[r\"\\n\\n^#\", \"^'''\", \"\\n\\n\\n\"]))\n",
        "except:\n",
        "      print(\"Nada que mostrar o error. Saltamos este paso...\")"
      ],
      "metadata": {
        "id": "WkM1heQy1HU9",
        "colab": {
          "base_uri": "https://localhost:8080/"
        },
        "outputId": "cd2e8e1b-9d49-4583-924c-aac88a9ac13f"
      },
      "execution_count": 86,
      "outputs": [
        {
          "output_type": "stream",
          "name": "stdout",
          "text": [
            "Nada que mostrar o error. Saltamos este paso...\n"
          ]
        }
      ]
    },
    {
      "cell_type": "code",
      "source": [
        "#Esperamos unos segundos, no sobrecarguemos Bloom\n",
        "time.sleep(15)"
      ],
      "metadata": {
        "id": "DFZUfy261UeX"
      },
      "execution_count": 87,
      "outputs": []
    },
    {
      "cell_type": "code",
      "source": [
        "#Sacamos contenido con Suggests\n",
        "\n",
        "try:\n",
        "  prompt = f'{spin2} {suggestclean[1].capitalize()}: '\n",
        "  input_ids = tokenizer(prompt, return_tensors=\"pt\").to(0)\n",
        "  sample = model.generate(**input_ids, max_length=700,  top_k=2, temperature=1.5, repetition_penalty = 1.2, no_repeat_ngram_size=4)\n",
        "  f = open ('prueba.txt','a')\n",
        "  f.write('<br><h2>' + (suggestclean[1].capitalize()) + '</h2>')\n",
        "  f.write(tokenizer.decode(sample[0], truncate_before_pattern=[r\"\\n\\n^#\", \"^'''\", \"\\n\\n\\n\"]))\n",
        "except:\n",
        "  print(\"Nada que mostrar o error. Saltamos este paso...\")\n",
        "\n",
        "try:\n",
        "  prompt = f'{spin2} {suggestclean[2].capitalize()}: '\n",
        "  input_ids = tokenizer(prompt, return_tensors=\"pt\").to(0)\n",
        "  sample = model.generate(**input_ids, max_length=600,  top_k=1, temperature=1.6, repetition_penalty = 1, no_repeat_ngram_size=3)\n",
        "  f = open ('prueba.txt','a')\n",
        "  f.write('<br><h2>' + (suggestclean[2].capitalize()) + '</h2>')\n",
        "  f.write(tokenizer.decode(sample[0], truncate_before_pattern=[r\"\\n\\n^#\", \"^'''\", \"\\n\\n\\n\"]))\n",
        "except:\n",
        "  print(\"Nada que mostrar o error. Saltamos este paso...\")\n",
        "\n",
        "try:\n",
        "  prompt = f'{spin2} {suggestclean[3].capitalize()}: '\n",
        "  input_ids = tokenizer(prompt, return_tensors=\"pt\").to(0)\n",
        "  sample = model.generate(**input_ids, max_length=600,  top_k=2, temperature=1.8, repetition_penalty = 1.1, no_repeat_ngram_size=3)\n",
        "  f = open ('prueba.txt','a')\n",
        "  f.write('<br><h2>' + (suggestclean[3].capitalize()) + '</h2>')\n",
        "  f.write(tokenizer.decode(sample[0], truncate_before_pattern=[r\"\\n\\n^#\", \"^'''\", \"\\n\\n\\n\"]))\n",
        "except:\n",
        "  print(\"Nada que mostrar o error. Saltamos este paso...\")\n",
        "\n",
        "try:\n",
        "  prompt = f'{spin2} {suggestclean[4].capitalize()}: '\n",
        "  input_ids = tokenizer(prompt, return_tensors=\"pt\").to(0)\n",
        "  sample = model.generate(**input_ids, max_length=600,  top_k=1, temperature=1.7, repetition_penalty = 1.2, no_repeat_ngram_size=2)\n",
        "  f = open ('prueba.txt','a')\n",
        "  f.write('<br><h2>' + (suggestclean[4].capitalize()) + '</h2>')\n",
        "  f.write(tokenizer.decode(sample[0], truncate_before_pattern=[r\"\\n\\n^#\", \"^'''\", \"\\n\\n\\n\"]))\n",
        "except:\n",
        "  print(\"Nada que mostrar o error. Saltamos este paso...\")\n",
        "\n",
        "try:\n",
        "  prompt = f'{spin3} {suggestclean[5].capitalize()}: '\n",
        "  input_ids = tokenizer(prompt, return_tensors=\"pt\").to(0)\n",
        "  sample = model.generate(**input_ids, max_length=600,  top_k=1, temperature=2, repetition_penalty = 1.2, no_repeat_ngram_size=2)\n",
        "  f = open ('prueba.txt','a')\n",
        "  f.write('<br><h2>' + (suggestclean[5].capitalize()) + '</h2>')\n",
        "  f.write(tokenizer.decode(sample[0], truncate_before_pattern=[r\"\\n\\n^#\", \"^'''\", \"\\n\\n\\n\"]))\n",
        "except:\n",
        "  print(\"Nada que mostrar o error. Saltamos este paso...\")"
      ],
      "metadata": {
        "id": "sveQDSYIzqAQ"
      },
      "execution_count": 88,
      "outputs": []
    },
    {
      "cell_type": "code",
      "source": [
        "f = open ('prueba.txt','r')\n",
        "mensaje = f.read()"
      ],
      "metadata": {
        "id": "UUiVjTy2b8MS"
      },
      "execution_count": 89,
      "outputs": []
    },
    {
      "cell_type": "code",
      "source": [
        "#Sacamos vídeo desde Youtube\n",
        "class YoutubeSearch:\n",
        "    def __init__(self, search_terms: str, max_results=None):\n",
        "        self.search_terms = search_terms\n",
        "        self.max_results = max_results\n",
        "        self.videos = self._search()\n",
        "\n",
        "    def _search(self):\n",
        "        encoded_search = urllib.parse.quote_plus(self.search_terms)\n",
        "        BASE_URL = \"https://youtube.com\"\n",
        "        url = f\"{BASE_URL}/results?search_query={encoded_search}\"\n",
        "        response = requests.get(url).text\n",
        "        while \"ytInitialData\" not in response:\n",
        "            response = requests.get(url).text\n",
        "        results = self._parse_html(response)\n",
        "        if self.max_results is not None and len(results) > self.max_results:\n",
        "            return results[: self.max_results]\n",
        "        return results\n",
        "\n",
        "    def _parse_html(self, response):\n",
        "        results = []\n",
        "        start = (\n",
        "            response.index(\"ytInitialData\")\n",
        "            + len(\"ytInitialData\")\n",
        "            + 3\n",
        "        )\n",
        "        end = response.index(\"};\", start) + 1\n",
        "        json_str = response[start:end]\n",
        "        data = json.loads(json_str)\n",
        "\n",
        "        for contents in data[\"contents\"][\"twoColumnSearchResultsRenderer\"][\"primaryContents\"][\"sectionListRenderer\"][\"contents\"]:\n",
        "            for video in contents[\"itemSectionRenderer\"][\"contents\"]:\n",
        "                res = {}\n",
        "                if \"videoRenderer\" in video.keys():\n",
        "                    video_data = video.get(\"videoRenderer\", {})\n",
        "                    res[\"id\"] = video_data.get(\"videoId\", None)\n",
        "                    res[\"thumbnails\"] = [thumb.get(\"url\", None) for thumb in video_data.get(\"thumbnail\", {}).get(\"thumbnails\", [{}]) ]\n",
        "                    res[\"title\"] = video_data.get(\"title\", {}).get(\"runs\", [[{}]])[0].get(\"text\", None)\n",
        "                    res[\"long_desc\"] = video_data.get(\"descriptionSnippet\", {}).get(\"runs\", [{}])[0].get(\"text\", None)\n",
        "                    res[\"channel\"] = video_data.get(\"longBylineText\", {}).get(\"runs\", [[{}]])[0].get(\"text\", None)\n",
        "                    res[\"duration\"] = video_data.get(\"lengthText\", {}).get(\"simpleText\", 0)\n",
        "                    res[\"views\"] = video_data.get(\"viewCountText\", {}).get(\"simpleText\", 0)\n",
        "                    res[\"publish_time\"] = video_data.get(\"publishedTimeText\", {}).get(\"simpleText\", 0)\n",
        "                    res[\"url_suffix\"] = video_data.get(\"navigationEndpoint\", {}).get(\"commandMetadata\", {}).get(\"webCommandMetadata\", {}).get(\"url\", None)\n",
        "                    #results.append(res)\n",
        "\n",
        "            if results:\n",
        "                return results\n",
        "        return results\n",
        "\n",
        "    def to_dict(self, clear_cache=True):\n",
        "        result = self.videos\n",
        "        if clear_cache:\n",
        "            self.videos = \"\"\n",
        "        return result\n",
        "\n",
        "    def to_json(self, clear_cache=True):\n",
        "        result = json.dumps({\"videos\": self.videos})\n",
        "        if clear_cache:\n",
        "            self.videos = \"\"\n",
        "        return result"
      ],
      "metadata": {
        "id": "52FMfP_WAJqQ"
      },
      "execution_count": 90,
      "outputs": []
    },
    {
      "cell_type": "code",
      "source": [
        "from youtube_search import YoutubeSearch\n",
        "import json\n",
        "jsonData = YoutubeSearch((blogpost_title), max_results=1).to_json()\n",
        "jsonToPython = json.loads(jsonData)\n",
        "videosy = (jsonToPython[\"videos\"])\n",
        "\n",
        "for entry in videosy:\n",
        "    urly = (entry['url_suffix'])\n",
        "    \n",
        "string = (urly)\n",
        "characters = \"/watch?, =\"\n",
        "\n",
        "for x in range(len(characters)):\n",
        "    string = string.replace(characters[x],\"\")\n",
        "original_string = (string)\n",
        "sytube = original_string.replace('v',  '', 1)"
      ],
      "metadata": {
        "id": "Tz-9rNFnAPOB"
      },
      "execution_count": 91,
      "outputs": []
    },
    {
      "cell_type": "code",
      "source": [
        "#Añadimos vídeo al txt\n",
        "\n",
        "f = open ('prueba.txt','a')\n",
        "f.write('<br><h2>Vídeo</h2><br><center><iframe width=\"560\" height=\"315\" src=\"https://www.youtube.com/embed/' + (sytube) + '\" title=\"YouTube video player\" frameborder=\"0\" allow=\"accelerometer; autoplay; clipboard-write; encrypted-media; gyroscope; picture-in-picture\" allowfullscreen></iframe><center>')\n"
      ],
      "metadata": {
        "id": "qdvBZVGEkDgu",
        "colab": {
          "base_uri": "https://localhost:8080/"
        },
        "outputId": "5053813f-2c2b-4d9c-9304-0e9da6c03ab1"
      },
      "execution_count": 92,
      "outputs": [
        {
          "output_type": "execute_result",
          "data": {
            "text/plain": [
              "284"
            ]
          },
          "metadata": {},
          "execution_count": 92
        }
      ]
    },
    {
      "cell_type": "code",
      "source": [
        "infile = open(\"prueba.txt\", \"r\")\n",
        "\n",
        "counterr = 0\n",
        "for post in infile:\n",
        "  f = open(\"post-content.csv\", \"a\", encoding=\"UTF8\")\n",
        "  writer = csv.writer(f)\n",
        "  counterr = counterr + 1\n",
        "output = [blogpost_title, mensaje]\n",
        "writer.writerow(output)\n",
        "print(\" Finalizado.\")\n",
        "f.close()\n"
      ],
      "metadata": {
        "id": "fst4pN6gd0UC",
        "colab": {
          "base_uri": "https://localhost:8080/"
        },
        "outputId": "677aa9bd-cf55-4baa-a324-50872afc3a2b"
      },
      "execution_count": 93,
      "outputs": [
        {
          "output_type": "stream",
          "name": "stdout",
          "text": [
            " Finalizado.\n"
          ]
        }
      ]
    }
  ],
  "metadata": {
    "accelerator": "GPU",
    "colab": {
      "collapsed_sections": [],
      "name": "Copia de CSV Bloom.ipynb",
      "provenance": [],
      "machine_shape": "hm",
      "mount_file_id": "1lELT3qV6sJOEjvG6yNgjFHzf9gmR-HcC",
      "authorship_tag": "ABX9TyPu/61Ch44CNCbU5SqhIFkm",
      "include_colab_link": true
    },
    "gpuClass": "standard",
    "kernelspec": {
      "display_name": "Python 3",
      "name": "python3"
    },
    "language_info": {
      "name": "python"
    },
    "widgets": {
      "application/vnd.jupyter.widget-state+json": {
        "888e53aa5b9043b684bff893f7d5072b": {
          "model_module": "@jupyter-widgets/controls",
          "model_name": "HBoxModel",
          "model_module_version": "1.5.0",
          "state": {
            "_dom_classes": [],
            "_model_module": "@jupyter-widgets/controls",
            "_model_module_version": "1.5.0",
            "_model_name": "HBoxModel",
            "_view_count": null,
            "_view_module": "@jupyter-widgets/controls",
            "_view_module_version": "1.5.0",
            "_view_name": "HBoxView",
            "box_style": "",
            "children": [
              "IPY_MODEL_f72cfcdb7c7f40adba1cb84f5a99d3d5",
              "IPY_MODEL_e3b480c8d84f4ac4b49363faeac890ee",
              "IPY_MODEL_ad0744d18d5b4ce88c1e3bed25919bb8"
            ],
            "layout": "IPY_MODEL_f4007e8724a6460ca16785ec03ad049a"
          }
        },
        "f72cfcdb7c7f40adba1cb84f5a99d3d5": {
          "model_module": "@jupyter-widgets/controls",
          "model_name": "HTMLModel",
          "model_module_version": "1.5.0",
          "state": {
            "_dom_classes": [],
            "_model_module": "@jupyter-widgets/controls",
            "_model_module_version": "1.5.0",
            "_model_name": "HTMLModel",
            "_view_count": null,
            "_view_module": "@jupyter-widgets/controls",
            "_view_module_version": "1.5.0",
            "_view_name": "HTMLView",
            "description": "",
            "description_tooltip": null,
            "layout": "IPY_MODEL_4592d543edea44c2bcebe00a4d759c45",
            "placeholder": "​",
            "style": "IPY_MODEL_1c1425545d394469a01b9d4a35555252",
            "value": "Downloading config.json: 100%"
          }
        },
        "e3b480c8d84f4ac4b49363faeac890ee": {
          "model_module": "@jupyter-widgets/controls",
          "model_name": "FloatProgressModel",
          "model_module_version": "1.5.0",
          "state": {
            "_dom_classes": [],
            "_model_module": "@jupyter-widgets/controls",
            "_model_module_version": "1.5.0",
            "_model_name": "FloatProgressModel",
            "_view_count": null,
            "_view_module": "@jupyter-widgets/controls",
            "_view_module_version": "1.5.0",
            "_view_name": "ProgressView",
            "bar_style": "success",
            "description": "",
            "description_tooltip": null,
            "layout": "IPY_MODEL_372caa3cf3024d83ac3f8b70bfa1b7ed",
            "max": 710,
            "min": 0,
            "orientation": "horizontal",
            "style": "IPY_MODEL_c9b2eb02e1844020a6864990cf292dfc",
            "value": 710
          }
        },
        "ad0744d18d5b4ce88c1e3bed25919bb8": {
          "model_module": "@jupyter-widgets/controls",
          "model_name": "HTMLModel",
          "model_module_version": "1.5.0",
          "state": {
            "_dom_classes": [],
            "_model_module": "@jupyter-widgets/controls",
            "_model_module_version": "1.5.0",
            "_model_name": "HTMLModel",
            "_view_count": null,
            "_view_module": "@jupyter-widgets/controls",
            "_view_module_version": "1.5.0",
            "_view_name": "HTMLView",
            "description": "",
            "description_tooltip": null,
            "layout": "IPY_MODEL_ec625b7038af4a8687c004ac1a676cda",
            "placeholder": "​",
            "style": "IPY_MODEL_bf92d246a2194ded870e86bb88e9fae7",
            "value": " 710/710 [00:00&lt;00:00, 24.2kB/s]"
          }
        },
        "f4007e8724a6460ca16785ec03ad049a": {
          "model_module": "@jupyter-widgets/base",
          "model_name": "LayoutModel",
          "model_module_version": "1.2.0",
          "state": {
            "_model_module": "@jupyter-widgets/base",
            "_model_module_version": "1.2.0",
            "_model_name": "LayoutModel",
            "_view_count": null,
            "_view_module": "@jupyter-widgets/base",
            "_view_module_version": "1.2.0",
            "_view_name": "LayoutView",
            "align_content": null,
            "align_items": null,
            "align_self": null,
            "border": null,
            "bottom": null,
            "display": null,
            "flex": null,
            "flex_flow": null,
            "grid_area": null,
            "grid_auto_columns": null,
            "grid_auto_flow": null,
            "grid_auto_rows": null,
            "grid_column": null,
            "grid_gap": null,
            "grid_row": null,
            "grid_template_areas": null,
            "grid_template_columns": null,
            "grid_template_rows": null,
            "height": null,
            "justify_content": null,
            "justify_items": null,
            "left": null,
            "margin": null,
            "max_height": null,
            "max_width": null,
            "min_height": null,
            "min_width": null,
            "object_fit": null,
            "object_position": null,
            "order": null,
            "overflow": null,
            "overflow_x": null,
            "overflow_y": null,
            "padding": null,
            "right": null,
            "top": null,
            "visibility": null,
            "width": null
          }
        },
        "4592d543edea44c2bcebe00a4d759c45": {
          "model_module": "@jupyter-widgets/base",
          "model_name": "LayoutModel",
          "model_module_version": "1.2.0",
          "state": {
            "_model_module": "@jupyter-widgets/base",
            "_model_module_version": "1.2.0",
            "_model_name": "LayoutModel",
            "_view_count": null,
            "_view_module": "@jupyter-widgets/base",
            "_view_module_version": "1.2.0",
            "_view_name": "LayoutView",
            "align_content": null,
            "align_items": null,
            "align_self": null,
            "border": null,
            "bottom": null,
            "display": null,
            "flex": null,
            "flex_flow": null,
            "grid_area": null,
            "grid_auto_columns": null,
            "grid_auto_flow": null,
            "grid_auto_rows": null,
            "grid_column": null,
            "grid_gap": null,
            "grid_row": null,
            "grid_template_areas": null,
            "grid_template_columns": null,
            "grid_template_rows": null,
            "height": null,
            "justify_content": null,
            "justify_items": null,
            "left": null,
            "margin": null,
            "max_height": null,
            "max_width": null,
            "min_height": null,
            "min_width": null,
            "object_fit": null,
            "object_position": null,
            "order": null,
            "overflow": null,
            "overflow_x": null,
            "overflow_y": null,
            "padding": null,
            "right": null,
            "top": null,
            "visibility": null,
            "width": null
          }
        },
        "1c1425545d394469a01b9d4a35555252": {
          "model_module": "@jupyter-widgets/controls",
          "model_name": "DescriptionStyleModel",
          "model_module_version": "1.5.0",
          "state": {
            "_model_module": "@jupyter-widgets/controls",
            "_model_module_version": "1.5.0",
            "_model_name": "DescriptionStyleModel",
            "_view_count": null,
            "_view_module": "@jupyter-widgets/base",
            "_view_module_version": "1.2.0",
            "_view_name": "StyleView",
            "description_width": ""
          }
        },
        "372caa3cf3024d83ac3f8b70bfa1b7ed": {
          "model_module": "@jupyter-widgets/base",
          "model_name": "LayoutModel",
          "model_module_version": "1.2.0",
          "state": {
            "_model_module": "@jupyter-widgets/base",
            "_model_module_version": "1.2.0",
            "_model_name": "LayoutModel",
            "_view_count": null,
            "_view_module": "@jupyter-widgets/base",
            "_view_module_version": "1.2.0",
            "_view_name": "LayoutView",
            "align_content": null,
            "align_items": null,
            "align_self": null,
            "border": null,
            "bottom": null,
            "display": null,
            "flex": null,
            "flex_flow": null,
            "grid_area": null,
            "grid_auto_columns": null,
            "grid_auto_flow": null,
            "grid_auto_rows": null,
            "grid_column": null,
            "grid_gap": null,
            "grid_row": null,
            "grid_template_areas": null,
            "grid_template_columns": null,
            "grid_template_rows": null,
            "height": null,
            "justify_content": null,
            "justify_items": null,
            "left": null,
            "margin": null,
            "max_height": null,
            "max_width": null,
            "min_height": null,
            "min_width": null,
            "object_fit": null,
            "object_position": null,
            "order": null,
            "overflow": null,
            "overflow_x": null,
            "overflow_y": null,
            "padding": null,
            "right": null,
            "top": null,
            "visibility": null,
            "width": null
          }
        },
        "c9b2eb02e1844020a6864990cf292dfc": {
          "model_module": "@jupyter-widgets/controls",
          "model_name": "ProgressStyleModel",
          "model_module_version": "1.5.0",
          "state": {
            "_model_module": "@jupyter-widgets/controls",
            "_model_module_version": "1.5.0",
            "_model_name": "ProgressStyleModel",
            "_view_count": null,
            "_view_module": "@jupyter-widgets/base",
            "_view_module_version": "1.2.0",
            "_view_name": "StyleView",
            "bar_color": null,
            "description_width": ""
          }
        },
        "ec625b7038af4a8687c004ac1a676cda": {
          "model_module": "@jupyter-widgets/base",
          "model_name": "LayoutModel",
          "model_module_version": "1.2.0",
          "state": {
            "_model_module": "@jupyter-widgets/base",
            "_model_module_version": "1.2.0",
            "_model_name": "LayoutModel",
            "_view_count": null,
            "_view_module": "@jupyter-widgets/base",
            "_view_module_version": "1.2.0",
            "_view_name": "LayoutView",
            "align_content": null,
            "align_items": null,
            "align_self": null,
            "border": null,
            "bottom": null,
            "display": null,
            "flex": null,
            "flex_flow": null,
            "grid_area": null,
            "grid_auto_columns": null,
            "grid_auto_flow": null,
            "grid_auto_rows": null,
            "grid_column": null,
            "grid_gap": null,
            "grid_row": null,
            "grid_template_areas": null,
            "grid_template_columns": null,
            "grid_template_rows": null,
            "height": null,
            "justify_content": null,
            "justify_items": null,
            "left": null,
            "margin": null,
            "max_height": null,
            "max_width": null,
            "min_height": null,
            "min_width": null,
            "object_fit": null,
            "object_position": null,
            "order": null,
            "overflow": null,
            "overflow_x": null,
            "overflow_y": null,
            "padding": null,
            "right": null,
            "top": null,
            "visibility": null,
            "width": null
          }
        },
        "bf92d246a2194ded870e86bb88e9fae7": {
          "model_module": "@jupyter-widgets/controls",
          "model_name": "DescriptionStyleModel",
          "model_module_version": "1.5.0",
          "state": {
            "_model_module": "@jupyter-widgets/controls",
            "_model_module_version": "1.5.0",
            "_model_name": "DescriptionStyleModel",
            "_view_count": null,
            "_view_module": "@jupyter-widgets/base",
            "_view_module_version": "1.2.0",
            "_view_name": "StyleView",
            "description_width": ""
          }
        },
        "dca9fb3658a4421d98c5445875b46335": {
          "model_module": "@jupyter-widgets/controls",
          "model_name": "HBoxModel",
          "model_module_version": "1.5.0",
          "state": {
            "_dom_classes": [],
            "_model_module": "@jupyter-widgets/controls",
            "_model_module_version": "1.5.0",
            "_model_name": "HBoxModel",
            "_view_count": null,
            "_view_module": "@jupyter-widgets/controls",
            "_view_module_version": "1.5.0",
            "_view_name": "HBoxView",
            "box_style": "",
            "children": [
              "IPY_MODEL_ac027efdca3a480b8f6f24645ae86952",
              "IPY_MODEL_f2f4afc0f611454989277f847f1d1f31",
              "IPY_MODEL_665a179cf40d4216af9c448cc5a581cd"
            ],
            "layout": "IPY_MODEL_e6dc0da146ff4cdc81d8496954655b59"
          }
        },
        "ac027efdca3a480b8f6f24645ae86952": {
          "model_module": "@jupyter-widgets/controls",
          "model_name": "HTMLModel",
          "model_module_version": "1.5.0",
          "state": {
            "_dom_classes": [],
            "_model_module": "@jupyter-widgets/controls",
            "_model_module_version": "1.5.0",
            "_model_name": "HTMLModel",
            "_view_count": null,
            "_view_module": "@jupyter-widgets/controls",
            "_view_module_version": "1.5.0",
            "_view_name": "HTMLView",
            "description": "",
            "description_tooltip": null,
            "layout": "IPY_MODEL_484706a29e5e49a8b3b91559d1ed7ab8",
            "placeholder": "​",
            "style": "IPY_MODEL_983378ba6c184223baae83d731f28168",
            "value": "Downloading pytorch_model.bin: 100%"
          }
        },
        "f2f4afc0f611454989277f847f1d1f31": {
          "model_module": "@jupyter-widgets/controls",
          "model_name": "FloatProgressModel",
          "model_module_version": "1.5.0",
          "state": {
            "_dom_classes": [],
            "_model_module": "@jupyter-widgets/controls",
            "_model_module_version": "1.5.0",
            "_model_name": "FloatProgressModel",
            "_view_count": null,
            "_view_module": "@jupyter-widgets/controls",
            "_view_module_version": "1.5.0",
            "_view_name": "ProgressView",
            "bar_style": "success",
            "description": "",
            "description_tooltip": null,
            "layout": "IPY_MODEL_335cf304125342d593ace5fb82c56c4b",
            "max": 3444919671,
            "min": 0,
            "orientation": "horizontal",
            "style": "IPY_MODEL_cbfbfde344304863ad0bea121072bfe4",
            "value": 3444919671
          }
        },
        "665a179cf40d4216af9c448cc5a581cd": {
          "model_module": "@jupyter-widgets/controls",
          "model_name": "HTMLModel",
          "model_module_version": "1.5.0",
          "state": {
            "_dom_classes": [],
            "_model_module": "@jupyter-widgets/controls",
            "_model_module_version": "1.5.0",
            "_model_name": "HTMLModel",
            "_view_count": null,
            "_view_module": "@jupyter-widgets/controls",
            "_view_module_version": "1.5.0",
            "_view_name": "HTMLView",
            "description": "",
            "description_tooltip": null,
            "layout": "IPY_MODEL_f4a022ff9f8c4d37b9c72de46a3c9508",
            "placeholder": "​",
            "style": "IPY_MODEL_4c7ca8c9d62348d98fe5b7682622582b",
            "value": " 3.21G/3.21G [01:24&lt;00:00, 37.7MB/s]"
          }
        },
        "e6dc0da146ff4cdc81d8496954655b59": {
          "model_module": "@jupyter-widgets/base",
          "model_name": "LayoutModel",
          "model_module_version": "1.2.0",
          "state": {
            "_model_module": "@jupyter-widgets/base",
            "_model_module_version": "1.2.0",
            "_model_name": "LayoutModel",
            "_view_count": null,
            "_view_module": "@jupyter-widgets/base",
            "_view_module_version": "1.2.0",
            "_view_name": "LayoutView",
            "align_content": null,
            "align_items": null,
            "align_self": null,
            "border": null,
            "bottom": null,
            "display": null,
            "flex": null,
            "flex_flow": null,
            "grid_area": null,
            "grid_auto_columns": null,
            "grid_auto_flow": null,
            "grid_auto_rows": null,
            "grid_column": null,
            "grid_gap": null,
            "grid_row": null,
            "grid_template_areas": null,
            "grid_template_columns": null,
            "grid_template_rows": null,
            "height": null,
            "justify_content": null,
            "justify_items": null,
            "left": null,
            "margin": null,
            "max_height": null,
            "max_width": null,
            "min_height": null,
            "min_width": null,
            "object_fit": null,
            "object_position": null,
            "order": null,
            "overflow": null,
            "overflow_x": null,
            "overflow_y": null,
            "padding": null,
            "right": null,
            "top": null,
            "visibility": null,
            "width": null
          }
        },
        "484706a29e5e49a8b3b91559d1ed7ab8": {
          "model_module": "@jupyter-widgets/base",
          "model_name": "LayoutModel",
          "model_module_version": "1.2.0",
          "state": {
            "_model_module": "@jupyter-widgets/base",
            "_model_module_version": "1.2.0",
            "_model_name": "LayoutModel",
            "_view_count": null,
            "_view_module": "@jupyter-widgets/base",
            "_view_module_version": "1.2.0",
            "_view_name": "LayoutView",
            "align_content": null,
            "align_items": null,
            "align_self": null,
            "border": null,
            "bottom": null,
            "display": null,
            "flex": null,
            "flex_flow": null,
            "grid_area": null,
            "grid_auto_columns": null,
            "grid_auto_flow": null,
            "grid_auto_rows": null,
            "grid_column": null,
            "grid_gap": null,
            "grid_row": null,
            "grid_template_areas": null,
            "grid_template_columns": null,
            "grid_template_rows": null,
            "height": null,
            "justify_content": null,
            "justify_items": null,
            "left": null,
            "margin": null,
            "max_height": null,
            "max_width": null,
            "min_height": null,
            "min_width": null,
            "object_fit": null,
            "object_position": null,
            "order": null,
            "overflow": null,
            "overflow_x": null,
            "overflow_y": null,
            "padding": null,
            "right": null,
            "top": null,
            "visibility": null,
            "width": null
          }
        },
        "983378ba6c184223baae83d731f28168": {
          "model_module": "@jupyter-widgets/controls",
          "model_name": "DescriptionStyleModel",
          "model_module_version": "1.5.0",
          "state": {
            "_model_module": "@jupyter-widgets/controls",
            "_model_module_version": "1.5.0",
            "_model_name": "DescriptionStyleModel",
            "_view_count": null,
            "_view_module": "@jupyter-widgets/base",
            "_view_module_version": "1.2.0",
            "_view_name": "StyleView",
            "description_width": ""
          }
        },
        "335cf304125342d593ace5fb82c56c4b": {
          "model_module": "@jupyter-widgets/base",
          "model_name": "LayoutModel",
          "model_module_version": "1.2.0",
          "state": {
            "_model_module": "@jupyter-widgets/base",
            "_model_module_version": "1.2.0",
            "_model_name": "LayoutModel",
            "_view_count": null,
            "_view_module": "@jupyter-widgets/base",
            "_view_module_version": "1.2.0",
            "_view_name": "LayoutView",
            "align_content": null,
            "align_items": null,
            "align_self": null,
            "border": null,
            "bottom": null,
            "display": null,
            "flex": null,
            "flex_flow": null,
            "grid_area": null,
            "grid_auto_columns": null,
            "grid_auto_flow": null,
            "grid_auto_rows": null,
            "grid_column": null,
            "grid_gap": null,
            "grid_row": null,
            "grid_template_areas": null,
            "grid_template_columns": null,
            "grid_template_rows": null,
            "height": null,
            "justify_content": null,
            "justify_items": null,
            "left": null,
            "margin": null,
            "max_height": null,
            "max_width": null,
            "min_height": null,
            "min_width": null,
            "object_fit": null,
            "object_position": null,
            "order": null,
            "overflow": null,
            "overflow_x": null,
            "overflow_y": null,
            "padding": null,
            "right": null,
            "top": null,
            "visibility": null,
            "width": null
          }
        },
        "cbfbfde344304863ad0bea121072bfe4": {
          "model_module": "@jupyter-widgets/controls",
          "model_name": "ProgressStyleModel",
          "model_module_version": "1.5.0",
          "state": {
            "_model_module": "@jupyter-widgets/controls",
            "_model_module_version": "1.5.0",
            "_model_name": "ProgressStyleModel",
            "_view_count": null,
            "_view_module": "@jupyter-widgets/base",
            "_view_module_version": "1.2.0",
            "_view_name": "StyleView",
            "bar_color": null,
            "description_width": ""
          }
        },
        "f4a022ff9f8c4d37b9c72de46a3c9508": {
          "model_module": "@jupyter-widgets/base",
          "model_name": "LayoutModel",
          "model_module_version": "1.2.0",
          "state": {
            "_model_module": "@jupyter-widgets/base",
            "_model_module_version": "1.2.0",
            "_model_name": "LayoutModel",
            "_view_count": null,
            "_view_module": "@jupyter-widgets/base",
            "_view_module_version": "1.2.0",
            "_view_name": "LayoutView",
            "align_content": null,
            "align_items": null,
            "align_self": null,
            "border": null,
            "bottom": null,
            "display": null,
            "flex": null,
            "flex_flow": null,
            "grid_area": null,
            "grid_auto_columns": null,
            "grid_auto_flow": null,
            "grid_auto_rows": null,
            "grid_column": null,
            "grid_gap": null,
            "grid_row": null,
            "grid_template_areas": null,
            "grid_template_columns": null,
            "grid_template_rows": null,
            "height": null,
            "justify_content": null,
            "justify_items": null,
            "left": null,
            "margin": null,
            "max_height": null,
            "max_width": null,
            "min_height": null,
            "min_width": null,
            "object_fit": null,
            "object_position": null,
            "order": null,
            "overflow": null,
            "overflow_x": null,
            "overflow_y": null,
            "padding": null,
            "right": null,
            "top": null,
            "visibility": null,
            "width": null
          }
        },
        "4c7ca8c9d62348d98fe5b7682622582b": {
          "model_module": "@jupyter-widgets/controls",
          "model_name": "DescriptionStyleModel",
          "model_module_version": "1.5.0",
          "state": {
            "_model_module": "@jupyter-widgets/controls",
            "_model_module_version": "1.5.0",
            "_model_name": "DescriptionStyleModel",
            "_view_count": null,
            "_view_module": "@jupyter-widgets/base",
            "_view_module_version": "1.2.0",
            "_view_name": "StyleView",
            "description_width": ""
          }
        },
        "7410d627b1624665b68ae22879ce7730": {
          "model_module": "@jupyter-widgets/controls",
          "model_name": "HBoxModel",
          "model_module_version": "1.5.0",
          "state": {
            "_dom_classes": [],
            "_model_module": "@jupyter-widgets/controls",
            "_model_module_version": "1.5.0",
            "_model_name": "HBoxModel",
            "_view_count": null,
            "_view_module": "@jupyter-widgets/controls",
            "_view_module_version": "1.5.0",
            "_view_name": "HBoxView",
            "box_style": "",
            "children": [
              "IPY_MODEL_27b2e639625c46a7a05131d515e9baf9",
              "IPY_MODEL_3cdb55405b1b4519ae3f32536c37e823",
              "IPY_MODEL_a189acca28fd480b84424f46cc579f25"
            ],
            "layout": "IPY_MODEL_393d18cbd41e4165b83675fb8082491c"
          }
        },
        "27b2e639625c46a7a05131d515e9baf9": {
          "model_module": "@jupyter-widgets/controls",
          "model_name": "HTMLModel",
          "model_module_version": "1.5.0",
          "state": {
            "_dom_classes": [],
            "_model_module": "@jupyter-widgets/controls",
            "_model_module_version": "1.5.0",
            "_model_name": "HTMLModel",
            "_view_count": null,
            "_view_module": "@jupyter-widgets/controls",
            "_view_module_version": "1.5.0",
            "_view_name": "HTMLView",
            "description": "",
            "description_tooltip": null,
            "layout": "IPY_MODEL_e673030ff222488e949c7002d0ce1c18",
            "placeholder": "​",
            "style": "IPY_MODEL_f46f492dbdd94571b0603a50323c029c",
            "value": "Downloading tokenizer_config.json: 100%"
          }
        },
        "3cdb55405b1b4519ae3f32536c37e823": {
          "model_module": "@jupyter-widgets/controls",
          "model_name": "FloatProgressModel",
          "model_module_version": "1.5.0",
          "state": {
            "_dom_classes": [],
            "_model_module": "@jupyter-widgets/controls",
            "_model_module_version": "1.5.0",
            "_model_name": "FloatProgressModel",
            "_view_count": null,
            "_view_module": "@jupyter-widgets/controls",
            "_view_module_version": "1.5.0",
            "_view_name": "ProgressView",
            "bar_style": "success",
            "description": "",
            "description_tooltip": null,
            "layout": "IPY_MODEL_9981470419bb4fa8ae24506fe187bd3f",
            "max": 222,
            "min": 0,
            "orientation": "horizontal",
            "style": "IPY_MODEL_a2f55721c0a54f5b8723b1048c3e2244",
            "value": 222
          }
        },
        "a189acca28fd480b84424f46cc579f25": {
          "model_module": "@jupyter-widgets/controls",
          "model_name": "HTMLModel",
          "model_module_version": "1.5.0",
          "state": {
            "_dom_classes": [],
            "_model_module": "@jupyter-widgets/controls",
            "_model_module_version": "1.5.0",
            "_model_name": "HTMLModel",
            "_view_count": null,
            "_view_module": "@jupyter-widgets/controls",
            "_view_module_version": "1.5.0",
            "_view_name": "HTMLView",
            "description": "",
            "description_tooltip": null,
            "layout": "IPY_MODEL_6aed3b7a9e884098822b232018a59d9e",
            "placeholder": "​",
            "style": "IPY_MODEL_07181b351f6a437a964139bda4929d25",
            "value": " 222/222 [00:00&lt;00:00, 7.65kB/s]"
          }
        },
        "393d18cbd41e4165b83675fb8082491c": {
          "model_module": "@jupyter-widgets/base",
          "model_name": "LayoutModel",
          "model_module_version": "1.2.0",
          "state": {
            "_model_module": "@jupyter-widgets/base",
            "_model_module_version": "1.2.0",
            "_model_name": "LayoutModel",
            "_view_count": null,
            "_view_module": "@jupyter-widgets/base",
            "_view_module_version": "1.2.0",
            "_view_name": "LayoutView",
            "align_content": null,
            "align_items": null,
            "align_self": null,
            "border": null,
            "bottom": null,
            "display": null,
            "flex": null,
            "flex_flow": null,
            "grid_area": null,
            "grid_auto_columns": null,
            "grid_auto_flow": null,
            "grid_auto_rows": null,
            "grid_column": null,
            "grid_gap": null,
            "grid_row": null,
            "grid_template_areas": null,
            "grid_template_columns": null,
            "grid_template_rows": null,
            "height": null,
            "justify_content": null,
            "justify_items": null,
            "left": null,
            "margin": null,
            "max_height": null,
            "max_width": null,
            "min_height": null,
            "min_width": null,
            "object_fit": null,
            "object_position": null,
            "order": null,
            "overflow": null,
            "overflow_x": null,
            "overflow_y": null,
            "padding": null,
            "right": null,
            "top": null,
            "visibility": null,
            "width": null
          }
        },
        "e673030ff222488e949c7002d0ce1c18": {
          "model_module": "@jupyter-widgets/base",
          "model_name": "LayoutModel",
          "model_module_version": "1.2.0",
          "state": {
            "_model_module": "@jupyter-widgets/base",
            "_model_module_version": "1.2.0",
            "_model_name": "LayoutModel",
            "_view_count": null,
            "_view_module": "@jupyter-widgets/base",
            "_view_module_version": "1.2.0",
            "_view_name": "LayoutView",
            "align_content": null,
            "align_items": null,
            "align_self": null,
            "border": null,
            "bottom": null,
            "display": null,
            "flex": null,
            "flex_flow": null,
            "grid_area": null,
            "grid_auto_columns": null,
            "grid_auto_flow": null,
            "grid_auto_rows": null,
            "grid_column": null,
            "grid_gap": null,
            "grid_row": null,
            "grid_template_areas": null,
            "grid_template_columns": null,
            "grid_template_rows": null,
            "height": null,
            "justify_content": null,
            "justify_items": null,
            "left": null,
            "margin": null,
            "max_height": null,
            "max_width": null,
            "min_height": null,
            "min_width": null,
            "object_fit": null,
            "object_position": null,
            "order": null,
            "overflow": null,
            "overflow_x": null,
            "overflow_y": null,
            "padding": null,
            "right": null,
            "top": null,
            "visibility": null,
            "width": null
          }
        },
        "f46f492dbdd94571b0603a50323c029c": {
          "model_module": "@jupyter-widgets/controls",
          "model_name": "DescriptionStyleModel",
          "model_module_version": "1.5.0",
          "state": {
            "_model_module": "@jupyter-widgets/controls",
            "_model_module_version": "1.5.0",
            "_model_name": "DescriptionStyleModel",
            "_view_count": null,
            "_view_module": "@jupyter-widgets/base",
            "_view_module_version": "1.2.0",
            "_view_name": "StyleView",
            "description_width": ""
          }
        },
        "9981470419bb4fa8ae24506fe187bd3f": {
          "model_module": "@jupyter-widgets/base",
          "model_name": "LayoutModel",
          "model_module_version": "1.2.0",
          "state": {
            "_model_module": "@jupyter-widgets/base",
            "_model_module_version": "1.2.0",
            "_model_name": "LayoutModel",
            "_view_count": null,
            "_view_module": "@jupyter-widgets/base",
            "_view_module_version": "1.2.0",
            "_view_name": "LayoutView",
            "align_content": null,
            "align_items": null,
            "align_self": null,
            "border": null,
            "bottom": null,
            "display": null,
            "flex": null,
            "flex_flow": null,
            "grid_area": null,
            "grid_auto_columns": null,
            "grid_auto_flow": null,
            "grid_auto_rows": null,
            "grid_column": null,
            "grid_gap": null,
            "grid_row": null,
            "grid_template_areas": null,
            "grid_template_columns": null,
            "grid_template_rows": null,
            "height": null,
            "justify_content": null,
            "justify_items": null,
            "left": null,
            "margin": null,
            "max_height": null,
            "max_width": null,
            "min_height": null,
            "min_width": null,
            "object_fit": null,
            "object_position": null,
            "order": null,
            "overflow": null,
            "overflow_x": null,
            "overflow_y": null,
            "padding": null,
            "right": null,
            "top": null,
            "visibility": null,
            "width": null
          }
        },
        "a2f55721c0a54f5b8723b1048c3e2244": {
          "model_module": "@jupyter-widgets/controls",
          "model_name": "ProgressStyleModel",
          "model_module_version": "1.5.0",
          "state": {
            "_model_module": "@jupyter-widgets/controls",
            "_model_module_version": "1.5.0",
            "_model_name": "ProgressStyleModel",
            "_view_count": null,
            "_view_module": "@jupyter-widgets/base",
            "_view_module_version": "1.2.0",
            "_view_name": "StyleView",
            "bar_color": null,
            "description_width": ""
          }
        },
        "6aed3b7a9e884098822b232018a59d9e": {
          "model_module": "@jupyter-widgets/base",
          "model_name": "LayoutModel",
          "model_module_version": "1.2.0",
          "state": {
            "_model_module": "@jupyter-widgets/base",
            "_model_module_version": "1.2.0",
            "_model_name": "LayoutModel",
            "_view_count": null,
            "_view_module": "@jupyter-widgets/base",
            "_view_module_version": "1.2.0",
            "_view_name": "LayoutView",
            "align_content": null,
            "align_items": null,
            "align_self": null,
            "border": null,
            "bottom": null,
            "display": null,
            "flex": null,
            "flex_flow": null,
            "grid_area": null,
            "grid_auto_columns": null,
            "grid_auto_flow": null,
            "grid_auto_rows": null,
            "grid_column": null,
            "grid_gap": null,
            "grid_row": null,
            "grid_template_areas": null,
            "grid_template_columns": null,
            "grid_template_rows": null,
            "height": null,
            "justify_content": null,
            "justify_items": null,
            "left": null,
            "margin": null,
            "max_height": null,
            "max_width": null,
            "min_height": null,
            "min_width": null,
            "object_fit": null,
            "object_position": null,
            "order": null,
            "overflow": null,
            "overflow_x": null,
            "overflow_y": null,
            "padding": null,
            "right": null,
            "top": null,
            "visibility": null,
            "width": null
          }
        },
        "07181b351f6a437a964139bda4929d25": {
          "model_module": "@jupyter-widgets/controls",
          "model_name": "DescriptionStyleModel",
          "model_module_version": "1.5.0",
          "state": {
            "_model_module": "@jupyter-widgets/controls",
            "_model_module_version": "1.5.0",
            "_model_name": "DescriptionStyleModel",
            "_view_count": null,
            "_view_module": "@jupyter-widgets/base",
            "_view_module_version": "1.2.0",
            "_view_name": "StyleView",
            "description_width": ""
          }
        },
        "b741015fbae549749ee5efbb8cccd1e7": {
          "model_module": "@jupyter-widgets/controls",
          "model_name": "HBoxModel",
          "model_module_version": "1.5.0",
          "state": {
            "_dom_classes": [],
            "_model_module": "@jupyter-widgets/controls",
            "_model_module_version": "1.5.0",
            "_model_name": "HBoxModel",
            "_view_count": null,
            "_view_module": "@jupyter-widgets/controls",
            "_view_module_version": "1.5.0",
            "_view_name": "HBoxView",
            "box_style": "",
            "children": [
              "IPY_MODEL_ab5cc84822e5427b992beb27155a4180",
              "IPY_MODEL_cc7b1ce656184cc9be794e6ab5228c91",
              "IPY_MODEL_c9854e8065584a418bd08d0a16e61fa1"
            ],
            "layout": "IPY_MODEL_8cfe32acebb94e1784051dcff1a0681b"
          }
        },
        "ab5cc84822e5427b992beb27155a4180": {
          "model_module": "@jupyter-widgets/controls",
          "model_name": "HTMLModel",
          "model_module_version": "1.5.0",
          "state": {
            "_dom_classes": [],
            "_model_module": "@jupyter-widgets/controls",
            "_model_module_version": "1.5.0",
            "_model_name": "HTMLModel",
            "_view_count": null,
            "_view_module": "@jupyter-widgets/controls",
            "_view_module_version": "1.5.0",
            "_view_name": "HTMLView",
            "description": "",
            "description_tooltip": null,
            "layout": "IPY_MODEL_57c115637182416d9ab558770cf81ff0",
            "placeholder": "​",
            "style": "IPY_MODEL_cf7811d0f0464200987d5fb6c8ba166f",
            "value": "Downloading tokenizer.json: 100%"
          }
        },
        "cc7b1ce656184cc9be794e6ab5228c91": {
          "model_module": "@jupyter-widgets/controls",
          "model_name": "FloatProgressModel",
          "model_module_version": "1.5.0",
          "state": {
            "_dom_classes": [],
            "_model_module": "@jupyter-widgets/controls",
            "_model_module_version": "1.5.0",
            "_model_name": "FloatProgressModel",
            "_view_count": null,
            "_view_module": "@jupyter-widgets/controls",
            "_view_module_version": "1.5.0",
            "_view_name": "ProgressView",
            "bar_style": "success",
            "description": "",
            "description_tooltip": null,
            "layout": "IPY_MODEL_f0dd46430ae34fcda352f203eecd286a",
            "max": 14500438,
            "min": 0,
            "orientation": "horizontal",
            "style": "IPY_MODEL_013ff53e39eb48ecb747c9d4eee2c131",
            "value": 14500438
          }
        },
        "c9854e8065584a418bd08d0a16e61fa1": {
          "model_module": "@jupyter-widgets/controls",
          "model_name": "HTMLModel",
          "model_module_version": "1.5.0",
          "state": {
            "_dom_classes": [],
            "_model_module": "@jupyter-widgets/controls",
            "_model_module_version": "1.5.0",
            "_model_name": "HTMLModel",
            "_view_count": null,
            "_view_module": "@jupyter-widgets/controls",
            "_view_module_version": "1.5.0",
            "_view_name": "HTMLView",
            "description": "",
            "description_tooltip": null,
            "layout": "IPY_MODEL_f749a5c17e474af5bbe4515b28d32882",
            "placeholder": "​",
            "style": "IPY_MODEL_6884fc0662444801b3f0a47d37eae393",
            "value": " 13.8M/13.8M [00:00&lt;00:00, 25.5MB/s]"
          }
        },
        "8cfe32acebb94e1784051dcff1a0681b": {
          "model_module": "@jupyter-widgets/base",
          "model_name": "LayoutModel",
          "model_module_version": "1.2.0",
          "state": {
            "_model_module": "@jupyter-widgets/base",
            "_model_module_version": "1.2.0",
            "_model_name": "LayoutModel",
            "_view_count": null,
            "_view_module": "@jupyter-widgets/base",
            "_view_module_version": "1.2.0",
            "_view_name": "LayoutView",
            "align_content": null,
            "align_items": null,
            "align_self": null,
            "border": null,
            "bottom": null,
            "display": null,
            "flex": null,
            "flex_flow": null,
            "grid_area": null,
            "grid_auto_columns": null,
            "grid_auto_flow": null,
            "grid_auto_rows": null,
            "grid_column": null,
            "grid_gap": null,
            "grid_row": null,
            "grid_template_areas": null,
            "grid_template_columns": null,
            "grid_template_rows": null,
            "height": null,
            "justify_content": null,
            "justify_items": null,
            "left": null,
            "margin": null,
            "max_height": null,
            "max_width": null,
            "min_height": null,
            "min_width": null,
            "object_fit": null,
            "object_position": null,
            "order": null,
            "overflow": null,
            "overflow_x": null,
            "overflow_y": null,
            "padding": null,
            "right": null,
            "top": null,
            "visibility": null,
            "width": null
          }
        },
        "57c115637182416d9ab558770cf81ff0": {
          "model_module": "@jupyter-widgets/base",
          "model_name": "LayoutModel",
          "model_module_version": "1.2.0",
          "state": {
            "_model_module": "@jupyter-widgets/base",
            "_model_module_version": "1.2.0",
            "_model_name": "LayoutModel",
            "_view_count": null,
            "_view_module": "@jupyter-widgets/base",
            "_view_module_version": "1.2.0",
            "_view_name": "LayoutView",
            "align_content": null,
            "align_items": null,
            "align_self": null,
            "border": null,
            "bottom": null,
            "display": null,
            "flex": null,
            "flex_flow": null,
            "grid_area": null,
            "grid_auto_columns": null,
            "grid_auto_flow": null,
            "grid_auto_rows": null,
            "grid_column": null,
            "grid_gap": null,
            "grid_row": null,
            "grid_template_areas": null,
            "grid_template_columns": null,
            "grid_template_rows": null,
            "height": null,
            "justify_content": null,
            "justify_items": null,
            "left": null,
            "margin": null,
            "max_height": null,
            "max_width": null,
            "min_height": null,
            "min_width": null,
            "object_fit": null,
            "object_position": null,
            "order": null,
            "overflow": null,
            "overflow_x": null,
            "overflow_y": null,
            "padding": null,
            "right": null,
            "top": null,
            "visibility": null,
            "width": null
          }
        },
        "cf7811d0f0464200987d5fb6c8ba166f": {
          "model_module": "@jupyter-widgets/controls",
          "model_name": "DescriptionStyleModel",
          "model_module_version": "1.5.0",
          "state": {
            "_model_module": "@jupyter-widgets/controls",
            "_model_module_version": "1.5.0",
            "_model_name": "DescriptionStyleModel",
            "_view_count": null,
            "_view_module": "@jupyter-widgets/base",
            "_view_module_version": "1.2.0",
            "_view_name": "StyleView",
            "description_width": ""
          }
        },
        "f0dd46430ae34fcda352f203eecd286a": {
          "model_module": "@jupyter-widgets/base",
          "model_name": "LayoutModel",
          "model_module_version": "1.2.0",
          "state": {
            "_model_module": "@jupyter-widgets/base",
            "_model_module_version": "1.2.0",
            "_model_name": "LayoutModel",
            "_view_count": null,
            "_view_module": "@jupyter-widgets/base",
            "_view_module_version": "1.2.0",
            "_view_name": "LayoutView",
            "align_content": null,
            "align_items": null,
            "align_self": null,
            "border": null,
            "bottom": null,
            "display": null,
            "flex": null,
            "flex_flow": null,
            "grid_area": null,
            "grid_auto_columns": null,
            "grid_auto_flow": null,
            "grid_auto_rows": null,
            "grid_column": null,
            "grid_gap": null,
            "grid_row": null,
            "grid_template_areas": null,
            "grid_template_columns": null,
            "grid_template_rows": null,
            "height": null,
            "justify_content": null,
            "justify_items": null,
            "left": null,
            "margin": null,
            "max_height": null,
            "max_width": null,
            "min_height": null,
            "min_width": null,
            "object_fit": null,
            "object_position": null,
            "order": null,
            "overflow": null,
            "overflow_x": null,
            "overflow_y": null,
            "padding": null,
            "right": null,
            "top": null,
            "visibility": null,
            "width": null
          }
        },
        "013ff53e39eb48ecb747c9d4eee2c131": {
          "model_module": "@jupyter-widgets/controls",
          "model_name": "ProgressStyleModel",
          "model_module_version": "1.5.0",
          "state": {
            "_model_module": "@jupyter-widgets/controls",
            "_model_module_version": "1.5.0",
            "_model_name": "ProgressStyleModel",
            "_view_count": null,
            "_view_module": "@jupyter-widgets/base",
            "_view_module_version": "1.2.0",
            "_view_name": "StyleView",
            "bar_color": null,
            "description_width": ""
          }
        },
        "f749a5c17e474af5bbe4515b28d32882": {
          "model_module": "@jupyter-widgets/base",
          "model_name": "LayoutModel",
          "model_module_version": "1.2.0",
          "state": {
            "_model_module": "@jupyter-widgets/base",
            "_model_module_version": "1.2.0",
            "_model_name": "LayoutModel",
            "_view_count": null,
            "_view_module": "@jupyter-widgets/base",
            "_view_module_version": "1.2.0",
            "_view_name": "LayoutView",
            "align_content": null,
            "align_items": null,
            "align_self": null,
            "border": null,
            "bottom": null,
            "display": null,
            "flex": null,
            "flex_flow": null,
            "grid_area": null,
            "grid_auto_columns": null,
            "grid_auto_flow": null,
            "grid_auto_rows": null,
            "grid_column": null,
            "grid_gap": null,
            "grid_row": null,
            "grid_template_areas": null,
            "grid_template_columns": null,
            "grid_template_rows": null,
            "height": null,
            "justify_content": null,
            "justify_items": null,
            "left": null,
            "margin": null,
            "max_height": null,
            "max_width": null,
            "min_height": null,
            "min_width": null,
            "object_fit": null,
            "object_position": null,
            "order": null,
            "overflow": null,
            "overflow_x": null,
            "overflow_y": null,
            "padding": null,
            "right": null,
            "top": null,
            "visibility": null,
            "width": null
          }
        },
        "6884fc0662444801b3f0a47d37eae393": {
          "model_module": "@jupyter-widgets/controls",
          "model_name": "DescriptionStyleModel",
          "model_module_version": "1.5.0",
          "state": {
            "_model_module": "@jupyter-widgets/controls",
            "_model_module_version": "1.5.0",
            "_model_name": "DescriptionStyleModel",
            "_view_count": null,
            "_view_module": "@jupyter-widgets/base",
            "_view_module_version": "1.2.0",
            "_view_name": "StyleView",
            "description_width": ""
          }
        },
        "6360927fb4cc49619edd26f9abb90987": {
          "model_module": "@jupyter-widgets/controls",
          "model_name": "HBoxModel",
          "model_module_version": "1.5.0",
          "state": {
            "_dom_classes": [],
            "_model_module": "@jupyter-widgets/controls",
            "_model_module_version": "1.5.0",
            "_model_name": "HBoxModel",
            "_view_count": null,
            "_view_module": "@jupyter-widgets/controls",
            "_view_module_version": "1.5.0",
            "_view_name": "HBoxView",
            "box_style": "",
            "children": [
              "IPY_MODEL_a09c50e3cb6b47e6b246cb85c1f67aae",
              "IPY_MODEL_868c972bec5b4efc82d1f6cd5d99bd81",
              "IPY_MODEL_a06e0cdacae64a9f8b179f043629904b"
            ],
            "layout": "IPY_MODEL_6a58378e39674b40829f7aceba43879f"
          }
        },
        "a09c50e3cb6b47e6b246cb85c1f67aae": {
          "model_module": "@jupyter-widgets/controls",
          "model_name": "HTMLModel",
          "model_module_version": "1.5.0",
          "state": {
            "_dom_classes": [],
            "_model_module": "@jupyter-widgets/controls",
            "_model_module_version": "1.5.0",
            "_model_name": "HTMLModel",
            "_view_count": null,
            "_view_module": "@jupyter-widgets/controls",
            "_view_module_version": "1.5.0",
            "_view_name": "HTMLView",
            "description": "",
            "description_tooltip": null,
            "layout": "IPY_MODEL_9b5c3261884b412ebcc51a9fb7b44411",
            "placeholder": "​",
            "style": "IPY_MODEL_0da04b8a31aa48d69af6b40fc73ef258",
            "value": "Downloading special_tokens_map.json: 100%"
          }
        },
        "868c972bec5b4efc82d1f6cd5d99bd81": {
          "model_module": "@jupyter-widgets/controls",
          "model_name": "FloatProgressModel",
          "model_module_version": "1.5.0",
          "state": {
            "_dom_classes": [],
            "_model_module": "@jupyter-widgets/controls",
            "_model_module_version": "1.5.0",
            "_model_name": "FloatProgressModel",
            "_view_count": null,
            "_view_module": "@jupyter-widgets/controls",
            "_view_module_version": "1.5.0",
            "_view_name": "ProgressView",
            "bar_style": "success",
            "description": "",
            "description_tooltip": null,
            "layout": "IPY_MODEL_194fcbfc26bc47ad9d778cba322acfe0",
            "max": 85,
            "min": 0,
            "orientation": "horizontal",
            "style": "IPY_MODEL_494a4030c8ff48509605f0d6ffe350e3",
            "value": 85
          }
        },
        "a06e0cdacae64a9f8b179f043629904b": {
          "model_module": "@jupyter-widgets/controls",
          "model_name": "HTMLModel",
          "model_module_version": "1.5.0",
          "state": {
            "_dom_classes": [],
            "_model_module": "@jupyter-widgets/controls",
            "_model_module_version": "1.5.0",
            "_model_name": "HTMLModel",
            "_view_count": null,
            "_view_module": "@jupyter-widgets/controls",
            "_view_module_version": "1.5.0",
            "_view_name": "HTMLView",
            "description": "",
            "description_tooltip": null,
            "layout": "IPY_MODEL_d2835b24554c428780ccb59d2b769c19",
            "placeholder": "​",
            "style": "IPY_MODEL_0a85762e44474e8baa000b0d33aa2324",
            "value": " 85.0/85.0 [00:00&lt;00:00, 2.35kB/s]"
          }
        },
        "6a58378e39674b40829f7aceba43879f": {
          "model_module": "@jupyter-widgets/base",
          "model_name": "LayoutModel",
          "model_module_version": "1.2.0",
          "state": {
            "_model_module": "@jupyter-widgets/base",
            "_model_module_version": "1.2.0",
            "_model_name": "LayoutModel",
            "_view_count": null,
            "_view_module": "@jupyter-widgets/base",
            "_view_module_version": "1.2.0",
            "_view_name": "LayoutView",
            "align_content": null,
            "align_items": null,
            "align_self": null,
            "border": null,
            "bottom": null,
            "display": null,
            "flex": null,
            "flex_flow": null,
            "grid_area": null,
            "grid_auto_columns": null,
            "grid_auto_flow": null,
            "grid_auto_rows": null,
            "grid_column": null,
            "grid_gap": null,
            "grid_row": null,
            "grid_template_areas": null,
            "grid_template_columns": null,
            "grid_template_rows": null,
            "height": null,
            "justify_content": null,
            "justify_items": null,
            "left": null,
            "margin": null,
            "max_height": null,
            "max_width": null,
            "min_height": null,
            "min_width": null,
            "object_fit": null,
            "object_position": null,
            "order": null,
            "overflow": null,
            "overflow_x": null,
            "overflow_y": null,
            "padding": null,
            "right": null,
            "top": null,
            "visibility": null,
            "width": null
          }
        },
        "9b5c3261884b412ebcc51a9fb7b44411": {
          "model_module": "@jupyter-widgets/base",
          "model_name": "LayoutModel",
          "model_module_version": "1.2.0",
          "state": {
            "_model_module": "@jupyter-widgets/base",
            "_model_module_version": "1.2.0",
            "_model_name": "LayoutModel",
            "_view_count": null,
            "_view_module": "@jupyter-widgets/base",
            "_view_module_version": "1.2.0",
            "_view_name": "LayoutView",
            "align_content": null,
            "align_items": null,
            "align_self": null,
            "border": null,
            "bottom": null,
            "display": null,
            "flex": null,
            "flex_flow": null,
            "grid_area": null,
            "grid_auto_columns": null,
            "grid_auto_flow": null,
            "grid_auto_rows": null,
            "grid_column": null,
            "grid_gap": null,
            "grid_row": null,
            "grid_template_areas": null,
            "grid_template_columns": null,
            "grid_template_rows": null,
            "height": null,
            "justify_content": null,
            "justify_items": null,
            "left": null,
            "margin": null,
            "max_height": null,
            "max_width": null,
            "min_height": null,
            "min_width": null,
            "object_fit": null,
            "object_position": null,
            "order": null,
            "overflow": null,
            "overflow_x": null,
            "overflow_y": null,
            "padding": null,
            "right": null,
            "top": null,
            "visibility": null,
            "width": null
          }
        },
        "0da04b8a31aa48d69af6b40fc73ef258": {
          "model_module": "@jupyter-widgets/controls",
          "model_name": "DescriptionStyleModel",
          "model_module_version": "1.5.0",
          "state": {
            "_model_module": "@jupyter-widgets/controls",
            "_model_module_version": "1.5.0",
            "_model_name": "DescriptionStyleModel",
            "_view_count": null,
            "_view_module": "@jupyter-widgets/base",
            "_view_module_version": "1.2.0",
            "_view_name": "StyleView",
            "description_width": ""
          }
        },
        "194fcbfc26bc47ad9d778cba322acfe0": {
          "model_module": "@jupyter-widgets/base",
          "model_name": "LayoutModel",
          "model_module_version": "1.2.0",
          "state": {
            "_model_module": "@jupyter-widgets/base",
            "_model_module_version": "1.2.0",
            "_model_name": "LayoutModel",
            "_view_count": null,
            "_view_module": "@jupyter-widgets/base",
            "_view_module_version": "1.2.0",
            "_view_name": "LayoutView",
            "align_content": null,
            "align_items": null,
            "align_self": null,
            "border": null,
            "bottom": null,
            "display": null,
            "flex": null,
            "flex_flow": null,
            "grid_area": null,
            "grid_auto_columns": null,
            "grid_auto_flow": null,
            "grid_auto_rows": null,
            "grid_column": null,
            "grid_gap": null,
            "grid_row": null,
            "grid_template_areas": null,
            "grid_template_columns": null,
            "grid_template_rows": null,
            "height": null,
            "justify_content": null,
            "justify_items": null,
            "left": null,
            "margin": null,
            "max_height": null,
            "max_width": null,
            "min_height": null,
            "min_width": null,
            "object_fit": null,
            "object_position": null,
            "order": null,
            "overflow": null,
            "overflow_x": null,
            "overflow_y": null,
            "padding": null,
            "right": null,
            "top": null,
            "visibility": null,
            "width": null
          }
        },
        "494a4030c8ff48509605f0d6ffe350e3": {
          "model_module": "@jupyter-widgets/controls",
          "model_name": "ProgressStyleModel",
          "model_module_version": "1.5.0",
          "state": {
            "_model_module": "@jupyter-widgets/controls",
            "_model_module_version": "1.5.0",
            "_model_name": "ProgressStyleModel",
            "_view_count": null,
            "_view_module": "@jupyter-widgets/base",
            "_view_module_version": "1.2.0",
            "_view_name": "StyleView",
            "bar_color": null,
            "description_width": ""
          }
        },
        "d2835b24554c428780ccb59d2b769c19": {
          "model_module": "@jupyter-widgets/base",
          "model_name": "LayoutModel",
          "model_module_version": "1.2.0",
          "state": {
            "_model_module": "@jupyter-widgets/base",
            "_model_module_version": "1.2.0",
            "_model_name": "LayoutModel",
            "_view_count": null,
            "_view_module": "@jupyter-widgets/base",
            "_view_module_version": "1.2.0",
            "_view_name": "LayoutView",
            "align_content": null,
            "align_items": null,
            "align_self": null,
            "border": null,
            "bottom": null,
            "display": null,
            "flex": null,
            "flex_flow": null,
            "grid_area": null,
            "grid_auto_columns": null,
            "grid_auto_flow": null,
            "grid_auto_rows": null,
            "grid_column": null,
            "grid_gap": null,
            "grid_row": null,
            "grid_template_areas": null,
            "grid_template_columns": null,
            "grid_template_rows": null,
            "height": null,
            "justify_content": null,
            "justify_items": null,
            "left": null,
            "margin": null,
            "max_height": null,
            "max_width": null,
            "min_height": null,
            "min_width": null,
            "object_fit": null,
            "object_position": null,
            "order": null,
            "overflow": null,
            "overflow_x": null,
            "overflow_y": null,
            "padding": null,
            "right": null,
            "top": null,
            "visibility": null,
            "width": null
          }
        },
        "0a85762e44474e8baa000b0d33aa2324": {
          "model_module": "@jupyter-widgets/controls",
          "model_name": "DescriptionStyleModel",
          "model_module_version": "1.5.0",
          "state": {
            "_model_module": "@jupyter-widgets/controls",
            "_model_module_version": "1.5.0",
            "_model_name": "DescriptionStyleModel",
            "_view_count": null,
            "_view_module": "@jupyter-widgets/base",
            "_view_module_version": "1.2.0",
            "_view_name": "StyleView",
            "description_width": ""
          }
        }
      }
    }
  },
  "nbformat": 4,
  "nbformat_minor": 0
}